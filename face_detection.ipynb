{
 "cells": [
  {
   "cell_type": "code",
   "execution_count": 0,
   "metadata": {
    "id": "aQREkob0YXPe",
    "colab_type": "code",
    "colab": {}
   },
   "outputs": [],
   "source": [
    "import os\n",
    "# os.environ['CUDA_VISIBLE_DEVICES'] = \"\""
   ]
  },
  {
   "cell_type": "code",
   "execution_count": 0,
   "metadata": {
    "id": "ghFDdAVWYXPo",
    "colab_type": "code",
    "colab": {}
   },
   "outputs": [],
   "source": [
    "from NN import *\n",
    "from utils import get_tf_session\n",
    "from data_utils import make_batch, single_np_datapoint_generator\n",
    "\n",
    "import tensorflow as tf\n",
    "import matplotlib.pyplot as plt\n",
    "import time"
   ]
  },
  {
   "cell_type": "code",
   "execution_count": 0,
   "metadata": {
    "id": "Tf7rw68dYXPw",
    "colab_type": "code",
    "colab": {}
   },
   "outputs": [],
   "source": [
    "train_dataset_files = [\n",
    " './data/tfrecords/0.tfrecord',\n",
    " './data/tfrecords/1.tfrecord',\n",
    " './data/tfrecords/2.tfrecord',\n",
    " './data/tfrecords/3.tfrecord',\n",
    " './data/tfrecords/4.tfrecord',\n",
    " './data/tfrecords/5.tfrecord',\n",
    " './data/tfrecords/6.tfrecord',\n",
    " './data/tfrecords/7.tfrecord',\n",
    " './data/tfrecords/8.tfrecord',\n",
    "]\n",
    "\n",
    "validation_dataset_files = ['./data/tfrecords/9.tfrecord']"
   ]
  },
  {
   "cell_type": "code",
   "execution_count": 4,
   "metadata": {
    "scrolled": false,
    "id": "8ZS1KNUrYXP4",
    "colab_type": "code",
    "colab": {
     "base_uri": "https://localhost:8080/",
     "height": 90.0
    },
    "outputId": "82ac3bbd-9288-46e0-9df0-48a14e5220c0",
    "executionInfo": {
     "status": "ok",
     "timestamp": 1.543043379101E12,
     "user_tz": 300.0,
     "elapsed": 3328.0,
     "user": {
      "displayName": "Jagpreet Chawla",
      "photoUrl": "",
      "userId": "02453128092696401391"
     }
    }
   },
   "outputs": [
    {
     "name": "stdout",
     "output_type": "stream",
     "text": [
      "WARNING:tensorflow:From /usr/local/lib/python3.6/dist-packages/tensorflow/python/ops/sparse_ops.py:1165: sparse_to_dense (from tensorflow.python.ops.sparse_ops) is deprecated and will be removed in a future version.\n",
      "Instructions for updating:\n",
      "Create a `tf.sparse.SparseTensor` and use `tf.sparse.to_dense` instead.\n"
     ]
    }
   ],
   "source": [
    "X_batch, Y_batch = make_batch(train_dataset_files, 200)\n",
    "loss_weights = tf.placeholder(dtype=tf.float32, shape=(6,))\n",
    "no_of_filter_fns=[\n",
    "#     lambda i: 0 if i == 0 else 11 + 3 * (i - 1), \n",
    "    lambda i: 10 + 3 * i\n",
    "]\n",
    "train_op, loss = create_yolo_model_graph(X_batch, Y_batch, no_of_filter_fns, loss_weights)\n",
    "X = tf.placeholder(dtype=tf.float32, shape=(None, None, None, 3))\n",
    "layers, _, pred = get_yolo_NN(X, no_of_filter_fns)\n",
    "chk_loc = './models/model_1.ckpt'"
   ]
  },
  {
   "cell_type": "code",
   "execution_count": 5,
   "metadata": {
    "id": "3AfZrJZ7YXQA",
    "colab_type": "code",
    "colab": {
     "base_uri": "https://localhost:8080/",
     "height": 52.0
    },
    "outputId": "4e7a9ac7-73f2-4f30-d1df-e3bdf0ec33c8",
    "executionInfo": {
     "status": "ok",
     "timestamp": 1.543043381103E12,
     "user_tz": 300.0,
     "elapsed": 1397.0,
     "user": {
      "displayName": "Jagpreet Chawla",
      "photoUrl": "",
      "userId": "02453128092696401391"
     }
    }
   },
   "outputs": [
    {
     "name": "stdout",
     "output_type": "stream",
     "text": [
      "No Checkpoint exits to restore!\n",
      "Tensorflow is able to detect gpu...\n"
     ]
    }
   ],
   "source": [
    "sess, saver = get_tf_session(chk_loc)\n",
    "if tf.test.is_gpu_available():\n",
    "    print(\"Tensorflow is able to detect gpu...\")"
   ]
  },
  {
   "cell_type": "code",
   "execution_count": 0,
   "metadata": {
    "scrolled": false,
    "id": "Pj08yekGYXQL",
    "colab_type": "code",
    "colab": {}
   },
   "outputs": [],
   "source": [
    "avg_loss = 0\n",
    "print_int = 200\n",
    "save_int = 1000\n",
    "st = time.time()\n",
    "for i in range(5000):\n",
    "    _, loss_value= sess.run([train_op, loss], feed_dict={loss_weights: [1.0, 1.0, 1.0, 1.0, 1.0, 1.0]})\n",
    "    avg_loss += loss_value\n",
    "    if i>0 and i%print_int == 0:\n",
    "        print(\"Batch No.\", i, \"Avg loss:\", avg_loss/print_int)\n",
    "        avg_loss = 0\n",
    "    if i>0 and i%save_int == 0:\n",
    "        print(\"Model saved in path: %s\" % saver.save(sess, chk_loc))\n",
    "print(\"Model saved in path: %s\" % saver.save(sess, chk_loc))\n",
    "print(\"training took total\", time.time() - st, \"seconds\")"
   ]
  },
  {
   "cell_type": "code",
   "execution_count": 0,
   "metadata": {
    "id": "Q-7PAB_uYXQR",
    "colab_type": "code",
    "colab": {}
   },
   "outputs": [],
   "source": [
    "print(calculate_yolo_metric(sess, X, pred, validation_dataset_files))"
   ]
  },
  {
   "cell_type": "code",
   "execution_count": 0,
   "metadata": {
    "id": "GxDugXLAYXQY",
    "colab_type": "code",
    "colab": {}
   },
   "outputs": [],
   "source": [
    "gen = single_np_datapoint_generator(validation_dataset_files)"
   ]
  },
  {
   "cell_type": "code",
   "execution_count": 0,
   "metadata": {
    "id": "YphR7elqYXQc",
    "colab_type": "code",
    "colab": {}
   },
   "outputs": [],
   "source": [
    "img, out = next(gen)\n",
    "see_and_compare_yolo_outputs(sess, X, pred, img, out)"
   ]
  },
  {
   "cell_type": "code",
   "execution_count": 0,
   "metadata": {
    "id": "nVfkNM8nYXQ0",
    "colab_type": "code",
    "colab": {}
   },
   "outputs": [],
   "source": [
    "tf.saved_model.simple_save(sess, './models/yolo_saved_model', \n",
    "                           inputs={\"x\": X}, \n",
    "                           outputs={\"pred\": pred})"
   ]
  },
  {
   "cell_type": "code",
   "execution_count": 0,
   "metadata": {
    "id": "jT9JSIRyYXQ4",
    "colab_type": "code",
    "colab": {}
   },
   "outputs": [],
   "source": [
    ""
   ]
  }
 ],
 "metadata": {
  "colab": {
   "name": "face_detection.ipynb",
   "version": "0.3.2",
   "provenance": [],
   "collapsed_sections": []
  },
  "kernelspec": {
   "name": "python3",
   "display_name": "Python 3"
  },
  "accelerator": "GPU"
 },
 "nbformat": 4,
 "nbformat_minor": 0
}
