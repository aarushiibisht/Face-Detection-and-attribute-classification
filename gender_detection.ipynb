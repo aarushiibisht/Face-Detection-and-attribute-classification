{
 "cells": [
  {
   "cell_type": "code",
   "execution_count": 0,
   "metadata": {
    "id": "kT-P9uyJK7GT",
    "colab_type": "code",
    "colab": {}
   },
   "outputs": [],
   "source": [
    "import os\n",
    "# os.environ['CUDA_VISIBLE_DEVICES'] = \"\""
   ]
  },
  {
   "cell_type": "code",
   "execution_count": 0,
   "metadata": {
    "id": "4fUpOXPUK7GY",
    "colab_type": "code",
    "colab": {}
   },
   "outputs": [],
   "source": [
    "from NN import *\n",
    "from utils import get_tf_session\n",
    "from data_utils import make_batch, single_np_datapoint_generator\n",
    "\n",
    "import tensorflow as tf\n",
    "import matplotlib.pyplot as plt\n",
    "import time"
   ]
  },
  {
   "cell_type": "code",
   "execution_count": 0,
   "metadata": {
    "id": "B1vLGApaK7Ge",
    "colab_type": "code",
    "colab": {}
   },
   "outputs": [],
   "source": [
    "train_dataset_files = [\n",
    " './data/tfrecords/0_cropped.tfrecord',\n",
    " './data/tfrecords/1_cropped.tfrecord',\n",
    " './data/tfrecords/2_cropped.tfrecord',\n",
    " './data/tfrecords/3_cropped.tfrecord',\n",
    " './data/tfrecords/4_cropped.tfrecord',\n",
    " './data/tfrecords/5_cropped.tfrecord',\n",
    " './data/tfrecords/6_cropped.tfrecord',\n",
    " './data/tfrecords/7_cropped.tfrecord',\n",
    " './data/tfrecords/8_cropped.tfrecord',\n",
    "]\n",
    "\n",
    "validation_dataset_files = ['./data/tfrecords/9_cropped.tfrecord']"
   ]
  },
  {
   "cell_type": "code",
   "execution_count": 4,
   "metadata": {
    "scrolled": false,
    "id": "UiiR3kfLK7Gh",
    "colab_type": "code",
    "colab": {
     "base_uri": "https://localhost:8080/",
     "height": 88.0
    },
    "outputId": "2025c98d-d7e1-48b5-e5ba-2909d7f7b263",
    "executionInfo": {
     "status": "ok",
     "timestamp": 1.543038656954E12,
     "user_tz": 300.0,
     "elapsed": 3162.0,
     "user": {
      "displayName": "Aarushi Bisht",
      "photoUrl": "https://lh6.googleusercontent.com/-2XghgRfShmY/AAAAAAAAAAI/AAAAAAAAS-8/XZz-3V9YukY/s64/photo.jpg",
      "userId": "00253849553632547740"
     }
    }
   },
   "outputs": [
    {
     "name": "stdout",
     "output_type": "stream",
     "text": [
      "WARNING:tensorflow:From /usr/local/lib/python3.6/dist-packages/tensorflow/python/ops/sparse_ops.py:1165: sparse_to_dense (from tensorflow.python.ops.sparse_ops) is deprecated and will be removed in a future version.\n",
      "Instructions for updating:\n",
      "Create a `tf.sparse.SparseTensor` and use `tf.sparse.to_dense` instead.\n"
     ]
    }
   ],
   "source": [
    "X_batch, Y_batch = make_batch(train_dataset_files, 200, raw_values=True)\n",
    "no_of_outputs = 2\n",
    "_, gender_logits = get_classification_NN(X_batch, 60, [lambda i: 10 + 3*i], 4, no_of_outputs)\n",
    "loss = tf.losses.sparse_softmax_cross_entropy(tf.cast(Y_batch[:, 0], tf.int32), gender_logits)\n",
    "train_op = get_training_op(loss)\n",
    "X = tf.placeholder(dtype=tf.float32, shape=(None, None, None, 3))\n",
    "gender, _ = get_classification_NN(X, 60, [lambda i: 10 + 3*i], 4, no_of_outputs)"
   ]
  },
  {
   "cell_type": "code",
   "execution_count": 5,
   "metadata": {
    "id": "4_Zakn1nK7Gl",
    "colab_type": "code",
    "colab": {
     "base_uri": "https://localhost:8080/",
     "height": 34.0
    },
    "outputId": "03a8d4e7-9978-49db-81a8-fad443400d5c",
    "executionInfo": {
     "status": "ok",
     "timestamp": 1.543038661896E12,
     "user_tz": 300.0,
     "elapsed": 1152.0,
     "user": {
      "displayName": "Aarushi Bisht",
      "photoUrl": "https://lh6.googleusercontent.com/-2XghgRfShmY/AAAAAAAAAAI/AAAAAAAAS-8/XZz-3V9YukY/s64/photo.jpg",
      "userId": "00253849553632547740"
     }
    }
   },
   "outputs": [
    {
     "name": "stdout",
     "output_type": "stream",
     "text": [
      "Tensorflow is able to detect gpu...\n"
     ]
    }
   ],
   "source": [
    "sess = get_tf_session()\n",
    "if tf.test.is_gpu_available():\n",
    "    print(\"Tensorflow is able to detect gpu...\")"
   ]
  },
  {
   "cell_type": "code",
   "execution_count": 7,
   "metadata": {
    "scrolled": false,
    "id": "c4CQmSMXK7Go",
    "colab_type": "code",
    "colab": {
     "base_uri": "https://localhost:8080/",
     "height": 238.0
    },
    "outputId": "b404cb85-9e8a-49a7-95ed-c89a6505ba1a",
    "executionInfo": {
     "status": "ok",
     "timestamp": 1.543039155779E12,
     "user_tz": 300.0,
     "elapsed": 182595.0,
     "user": {
      "displayName": "Aarushi Bisht",
      "photoUrl": "https://lh6.googleusercontent.com/-2XghgRfShmY/AAAAAAAAAAI/AAAAAAAAS-8/XZz-3V9YukY/s64/photo.jpg",
      "userId": "00253849553632547740"
     }
    }
   },
   "outputs": [
    {
     "name": "stdout",
     "output_type": "stream",
     "text": [
      "Batch No. 200 Avg loss: 0.24619824014604091\n",
      "Batch No. 400 Avg loss: 0.23567437753081322\n",
      "Batch No. 600 Avg loss: 0.2266256430745125\n",
      "Batch No. 800 Avg loss: 0.2200286468863487\n",
      "Batch No. 1000 Avg loss: 0.21240913912653922\n",
      "Batch No. 1200 Avg loss: 0.2047497658059001\n",
      "Batch No. 1400 Avg loss: 0.19937069818377495\n",
      "Batch No. 1600 Avg loss: 0.19711781933903694\n",
      "Batch No. 1800 Avg loss: 0.19487049628049136\n",
      "Batch No. 2000 Avg loss: 0.1987031790241599\n",
      "Batch No. 2200 Avg loss: 0.19357699871063233\n",
      "Batch No. 2400 Avg loss: 0.18799819212406874\n",
      "training took total 182.07158017158508 seconds\n"
     ]
    }
   ],
   "source": [
    "avg_loss = 0\n",
    "print_int = 200\n",
    "st = time.time()\n",
    "# while datetime.datetime.now().time() < datetime.time(hour=8, minute=30):\n",
    "for i in range(5000):\n",
    "    _, loss_value= sess.run([train_op, loss])\n",
    "    avg_loss += loss_value\n",
    "    if i>0 and i%print_int == 0:\n",
    "        print(\"Batch No.\", i, \"Avg loss:\", avg_loss/print_int)\n",
    "        avg_loss = 0\n",
    "print(\"training took total\", time.time() - st, \"seconds\")"
   ]
  },
  {
   "cell_type": "code",
   "execution_count": 8,
   "metadata": {
    "id": "wqkHMFHwK7Gt",
    "colab_type": "code",
    "colab": {
     "base_uri": "https://localhost:8080/",
     "height": 34.0
    },
    "outputId": "0caee6f2-2fba-4c57-c1ec-f40863d079e2",
    "executionInfo": {
     "status": "ok",
     "timestamp": 1.543039162624E12,
     "user_tz": 300.0,
     "elapsed": 4676.0,
     "user": {
      "displayName": "Aarushi Bisht",
      "photoUrl": "https://lh6.googleusercontent.com/-2XghgRfShmY/AAAAAAAAAAI/AAAAAAAAS-8/XZz-3V9YukY/s64/photo.jpg",
      "userId": "00253849553632547740"
     }
    }
   },
   "outputs": [
    {
     "name": "stdout",
     "output_type": "stream",
     "text": [
      "Accuracy 0.8343313373253493\n"
     ]
    }
   ],
   "source": [
    "gen = single_np_datapoint_generator(validation_dataset_files, raw_values=True)\n",
    "correct = 0\n",
    "total = 0\n",
    "for img, attr in group_iterable_into_list(gen, 20, 2):\n",
    "    pred = sess.run([gender], feed_dict={X: img})[0]\n",
    "    gend = np.array(attr)[:, 0]\n",
    "    pred_labels = np.argmax(pred, axis=1)\n",
    "    correct += np.count_nonzero(pred_labels == gend)\n",
    "    total += pred.shape[0]\n",
    "print(\"Accuracy\", correct/total)"
   ]
  },
  {
   "cell_type": "code",
   "execution_count": 0,
   "metadata": {
    "id": "tZRsy6oJOsV5",
    "colab_type": "code",
    "colab": {}
   },
   "outputs": [],
   "source": [
    ""
   ]
  }
 ],
 "metadata": {
  "colab": {
   "name": "gender_detection.ipynb",
   "version": "0.3.2",
   "provenance": [],
   "collapsed_sections": []
  },
  "kernelspec": {
   "name": "python3",
   "display_name": "Python 3"
  },
  "accelerator": "GPU"
 },
 "nbformat": 4,
 "nbformat_minor": 0
}
